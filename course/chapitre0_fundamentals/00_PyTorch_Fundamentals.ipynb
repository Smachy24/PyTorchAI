{
 "cells": [
  {
   "cell_type": "markdown",
   "id": "19db329ece4c0b71",
   "metadata": {},
   "source": [
    "# Introduction to tensors"
   ]
  },
  {
   "cell_type": "markdown",
   "id": "fb8dc317efb405b",
   "metadata": {},
   "source": [
    "## Creating a tensor"
   ]
  },
  {
   "cell_type": "code",
   "id": "e103406f9e354d99",
   "metadata": {
    "ExecuteTime": {
     "end_time": "2024-12-25T19:39:26.522875Z",
     "start_time": "2024-12-25T19:39:26.520775Z"
    }
   },
   "source": [
    "import torch"
   ],
   "outputs": [],
   "execution_count": 146
  },
  {
   "cell_type": "code",
   "id": "44772c93ce243570",
   "metadata": {
    "ExecuteTime": {
     "end_time": "2024-12-25T19:39:26.527384Z",
     "start_time": "2024-12-25T19:39:26.524880Z"
    }
   },
   "source": [
    "# Scalar\n",
    "\n",
    "scalar = torch.tensor(7)\n",
    "print(scalar)"
   ],
   "outputs": [
    {
     "name": "stdout",
     "output_type": "stream",
     "text": [
      "tensor(7)\n"
     ]
    }
   ],
   "execution_count": 147
  },
  {
   "cell_type": "code",
   "id": "655e70c0adfab58f",
   "metadata": {
    "ExecuteTime": {
     "end_time": "2024-12-25T19:39:26.530743Z",
     "start_time": "2024-12-25T19:39:26.528393Z"
    }
   },
   "source": [
    "# Get dimension of tensor\n",
    "print(scalar.ndim)"
   ],
   "outputs": [
    {
     "name": "stdout",
     "output_type": "stream",
     "text": [
      "0\n"
     ]
    }
   ],
   "execution_count": 148
  },
  {
   "cell_type": "code",
   "id": "9f1570fd8523cf9a",
   "metadata": {
    "ExecuteTime": {
     "end_time": "2024-12-25T19:39:26.534008Z",
     "start_time": "2024-12-25T19:39:26.531748Z"
    }
   },
   "source": [
    "## Get tensor item (only works with scalar)\n",
    "print(scalar.item())"
   ],
   "outputs": [
    {
     "name": "stdout",
     "output_type": "stream",
     "text": [
      "7\n"
     ]
    }
   ],
   "execution_count": 149
  },
  {
   "cell_type": "code",
   "id": "9fffda7c69be14a8",
   "metadata": {
    "ExecuteTime": {
     "end_time": "2024-12-25T19:39:26.537374Z",
     "start_time": "2024-12-25T19:39:26.535014Z"
    }
   },
   "source": [
    "# Vector\n",
    "\n",
    "vector = torch.tensor([1, 2])\n",
    "print(vector)\n",
    "# >>> tensor([1, 2])"
   ],
   "outputs": [
    {
     "name": "stdout",
     "output_type": "stream",
     "text": [
      "tensor([1, 2])\n"
     ]
    }
   ],
   "execution_count": 150
  },
  {
   "cell_type": "code",
   "id": "f257960373e9caf7",
   "metadata": {
    "ExecuteTime": {
     "end_time": "2024-12-25T19:39:26.540984Z",
     "start_time": "2024-12-25T19:39:26.538380Z"
    }
   },
   "source": [
    "MATRIX = torch.tensor([[1, 2], [3, 4]])\n",
    "print(MATRIX.ndim)"
   ],
   "outputs": [
    {
     "name": "stdout",
     "output_type": "stream",
     "text": [
      "2\n"
     ]
    }
   ],
   "execution_count": 151
  },
  {
   "cell_type": "code",
   "id": "5e1770efa4ba8baa",
   "metadata": {
    "ExecuteTime": {
     "end_time": "2024-12-25T19:39:26.544354Z",
     "start_time": "2024-12-25T19:39:26.541990Z"
    }
   },
   "source": [
    "print(MATRIX.shape)"
   ],
   "outputs": [
    {
     "name": "stdout",
     "output_type": "stream",
     "text": [
      "torch.Size([2, 2])\n"
     ]
    }
   ],
   "execution_count": 152
  },
  {
   "cell_type": "code",
   "id": "515b4404a75b455a",
   "metadata": {
    "ExecuteTime": {
     "end_time": "2024-12-25T19:39:26.547795Z",
     "start_time": "2024-12-25T19:39:26.545362Z"
    }
   },
   "source": [
    "#Tensor\n",
    "\n",
    "TENSOR = torch.tensor([\n",
    "    [\n",
    "        [1, 2, 3],\n",
    "        [3, 6, 9],\n",
    "        [2, 4, 5]\n",
    "    ]\n",
    "])\n",
    "\n",
    "print(TENSOR.ndim)"
   ],
   "outputs": [
    {
     "name": "stdout",
     "output_type": "stream",
     "text": [
      "3\n"
     ]
    }
   ],
   "execution_count": 153
  },
  {
   "cell_type": "code",
   "id": "f0fd5254588ef8f9",
   "metadata": {
    "ExecuteTime": {
     "end_time": "2024-12-25T19:39:26.551008Z",
     "start_time": "2024-12-25T19:39:26.548799Z"
    }
   },
   "source": [
    "print(TENSOR.shape)"
   ],
   "outputs": [
    {
     "name": "stdout",
     "output_type": "stream",
     "text": [
      "torch.Size([1, 3, 3])\n"
     ]
    }
   ],
   "execution_count": 154
  },
  {
   "cell_type": "markdown",
   "id": "3ffc3d5d77d2992",
   "metadata": {},
   "source": [
    "## Random Tensors"
   ]
  },
  {
   "cell_type": "code",
   "id": "2c10ea1aa9d2a2df",
   "metadata": {
    "ExecuteTime": {
     "end_time": "2024-12-25T19:39:26.554632Z",
     "start_time": "2024-12-25T19:39:26.552016Z"
    }
   },
   "source": [
    "random_tensor = torch.randn(3, 4)\n",
    "print(random_tensor)"
   ],
   "outputs": [
    {
     "name": "stdout",
     "output_type": "stream",
     "text": [
      "tensor([[ 2.2785, -0.5739,  0.4202,  0.0198],\n",
      "        [-0.3095,  0.4839, -1.1727,  0.0644],\n",
      "        [ 1.3278,  0.1791,  1.2715,  0.2707]])\n"
     ]
    }
   ],
   "execution_count": 155
  },
  {
   "cell_type": "code",
   "id": "d8004d521638d92c",
   "metadata": {
    "ExecuteTime": {
     "end_time": "2024-12-25T19:39:26.557767Z",
     "start_time": "2024-12-25T19:39:26.555639Z"
    }
   },
   "source": [
    "print(random_tensor.ndim)"
   ],
   "outputs": [
    {
     "name": "stdout",
     "output_type": "stream",
     "text": [
      "2\n"
     ]
    }
   ],
   "execution_count": 156
  },
  {
   "cell_type": "code",
   "id": "1456a8d482323bf3",
   "metadata": {
    "ExecuteTime": {
     "end_time": "2024-12-25T19:39:26.561727Z",
     "start_time": "2024-12-25T19:39:26.558775Z"
    }
   },
   "source": [
    "random_image_size_tensor = torch.rand(size=(3, 224, 224))  # color channels (R, G, B), height, width\n",
    "print(random_image_size_tensor.shape)"
   ],
   "outputs": [
    {
     "name": "stdout",
     "output_type": "stream",
     "text": [
      "torch.Size([3, 224, 224])\n"
     ]
    }
   ],
   "execution_count": 157
  },
  {
   "cell_type": "code",
   "id": "f1cd0a641550857e",
   "metadata": {
    "ExecuteTime": {
     "end_time": "2024-12-25T19:39:26.564992Z",
     "start_time": "2024-12-25T19:39:26.562733Z"
    }
   },
   "source": [
    "print(random_image_size_tensor.ndim)"
   ],
   "outputs": [
    {
     "name": "stdout",
     "output_type": "stream",
     "text": [
      "3\n"
     ]
    }
   ],
   "execution_count": 158
  },
  {
   "cell_type": "markdown",
   "id": "b0fa86859c4c18e",
   "metadata": {},
   "source": [
    "## Zeros and ones tensors"
   ]
  },
  {
   "cell_type": "code",
   "id": "5f5c4e55bfdc32aa",
   "metadata": {
    "ExecuteTime": {
     "end_time": "2024-12-25T19:39:26.568642Z",
     "start_time": "2024-12-25T19:39:26.566306Z"
    }
   },
   "source": [
    "zeros = torch.zeros(3, 4)\n",
    "print(zeros)"
   ],
   "outputs": [
    {
     "name": "stdout",
     "output_type": "stream",
     "text": [
      "tensor([[0., 0., 0., 0.],\n",
      "        [0., 0., 0., 0.],\n",
      "        [0., 0., 0., 0.]])\n"
     ]
    }
   ],
   "execution_count": 159
  },
  {
   "cell_type": "code",
   "id": "39b4e2e529c91405",
   "metadata": {
    "ExecuteTime": {
     "end_time": "2024-12-25T19:39:26.572240Z",
     "start_time": "2024-12-25T19:39:26.569651Z"
    }
   },
   "source": [
    "ones = torch.ones(3, 4)\n",
    "print(ones)"
   ],
   "outputs": [
    {
     "name": "stdout",
     "output_type": "stream",
     "text": [
      "tensor([[1., 1., 1., 1.],\n",
      "        [1., 1., 1., 1.],\n",
      "        [1., 1., 1., 1.]])\n"
     ]
    }
   ],
   "execution_count": 160
  },
  {
   "cell_type": "code",
   "id": "7741f2b6d7439a92",
   "metadata": {
    "ExecuteTime": {
     "end_time": "2024-12-25T19:39:26.575635Z",
     "start_time": "2024-12-25T19:39:26.573244Z"
    }
   },
   "source": [
    "print(ones.dtype)"
   ],
   "outputs": [
    {
     "name": "stdout",
     "output_type": "stream",
     "text": [
      "torch.float32\n"
     ]
    }
   ],
   "execution_count": 161
  },
  {
   "cell_type": "markdown",
   "id": "ebb12e7a8d3813bd",
   "metadata": {},
   "source": [
    "## Creating a range of tensors and tensors-like"
   ]
  },
  {
   "cell_type": "code",
   "id": "e522b212200091b2",
   "metadata": {
    "ExecuteTime": {
     "end_time": "2024-12-25T19:39:26.578942Z",
     "start_time": "2024-12-25T19:39:26.576641Z"
    }
   },
   "source": [
    "one_to_ten = torch.arange(0, 10)"
   ],
   "outputs": [],
   "execution_count": 162
  },
  {
   "cell_type": "code",
   "id": "afc24c18c0b347b",
   "metadata": {
    "ExecuteTime": {
     "end_time": "2024-12-25T19:39:26.582084Z",
     "start_time": "2024-12-25T19:39:26.579950Z"
    }
   },
   "source": [
    "# Creating tensors like\n",
    "ten_zeros = torch.zeros_like(input=one_to_ten)"
   ],
   "outputs": [],
   "execution_count": 163
  },
  {
   "cell_type": "markdown",
   "id": "55bdc5a3dd3cc783",
   "metadata": {},
   "source": [
    "## Tensor datatypes\n",
    "\n",
    "**Note:** Tensor datatypes is one of the 3 big errors you'll run into with PyTorch & deep learning :\n",
    "1. Tensors not right datatype\n",
    "2. Tensors not right shape\n",
    "3. Tensors not on the right device"
   ]
  },
  {
   "cell_type": "code",
   "id": "153fbefa24256170",
   "metadata": {
    "ExecuteTime": {
     "end_time": "2024-12-25T19:39:26.586105Z",
     "start_time": "2024-12-25T19:39:26.583090Z"
    }
   },
   "source": [
    "float_32_tensor = torch.tensor([3.0, 6.0, 9.0],\n",
    "                               dtype=None,  # What datatype is the tensor (ex : float32, float16...)\n",
    "                               device=None,  # What device is your tensor on\n",
    "                               requires_grad=False)  # Whether to track gradients with these tensors operations\n",
    "float_32_tensor.dtype"
   ],
   "outputs": [
    {
     "data": {
      "text/plain": [
       "torch.float32"
      ]
     },
     "execution_count": 164,
     "metadata": {},
     "output_type": "execute_result"
    }
   ],
   "execution_count": 164
  },
  {
   "cell_type": "code",
   "id": "ae4fbcb94db4b1bb",
   "metadata": {
    "ExecuteTime": {
     "end_time": "2024-12-25T19:39:26.590173Z",
     "start_time": "2024-12-25T19:39:26.587113Z"
    }
   },
   "source": [
    "float_16_tensor = float_32_tensor.type(torch.float16)\n",
    "float_16_tensor"
   ],
   "outputs": [
    {
     "data": {
      "text/plain": [
       "tensor([3., 6., 9.], dtype=torch.float16)"
      ]
     },
     "execution_count": 165,
     "metadata": {},
     "output_type": "execute_result"
    }
   ],
   "execution_count": 165
  },
  {
   "metadata": {
    "ExecuteTime": {
     "end_time": "2024-12-25T19:39:26.594026Z",
     "start_time": "2024-12-25T19:39:26.591178Z"
    }
   },
   "cell_type": "code",
   "source": "float_16_tensor * float_16_tensor",
   "id": "37198c355ebf9121",
   "outputs": [
    {
     "data": {
      "text/plain": [
       "tensor([ 9., 36., 81.], dtype=torch.float16)"
      ]
     },
     "execution_count": 166,
     "metadata": {},
     "output_type": "execute_result"
    }
   ],
   "execution_count": 166
  },
  {
   "metadata": {
    "ExecuteTime": {
     "end_time": "2024-12-25T19:39:26.597965Z",
     "start_time": "2024-12-25T19:39:26.595031Z"
    }
   },
   "cell_type": "code",
   "source": [
    "int_32_tensor = torch.tensor([3, 6, 9], dtype=torch.int64)\n",
    "int_32_tensor"
   ],
   "id": "8e57b22796312baf",
   "outputs": [
    {
     "data": {
      "text/plain": [
       "tensor([3, 6, 9])"
      ]
     },
     "execution_count": 167,
     "metadata": {},
     "output_type": "execute_result"
    }
   ],
   "execution_count": 167
  },
  {
   "metadata": {
    "ExecuteTime": {
     "end_time": "2024-12-25T19:39:26.601895Z",
     "start_time": "2024-12-25T19:39:26.598969Z"
    }
   },
   "cell_type": "code",
   "source": "float_32_tensor * int_32_tensor",
   "id": "d702729ae2036265",
   "outputs": [
    {
     "data": {
      "text/plain": [
       "tensor([ 9., 36., 81.])"
      ]
     },
     "execution_count": 168,
     "metadata": {},
     "output_type": "execute_result"
    }
   ],
   "execution_count": 168
  },
  {
   "metadata": {},
   "cell_type": "markdown",
   "source": [
    "### Getting information from tensors\n",
    "\n",
    "1. Tensors not right datatype - to do get datatype from a tensor, can use `tensor.dtype`\n",
    "2. Tensors not right shape - to get shape from a tensor, can use `tensor.shape`\n",
    "3. Tensors not on the right device - to get device from a tensor, can use `tensor.device`\n"
   ],
   "id": "2a12f665bc9d61f0"
  },
  {
   "metadata": {
    "ExecuteTime": {
     "end_time": "2024-12-25T19:39:26.605521Z",
     "start_time": "2024-12-25T19:39:26.602903Z"
    }
   },
   "cell_type": "code",
   "source": [
    "# Create a tensor\n",
    "some_tensor = torch.randn(3, 4)\n",
    "print(some_tensor)"
   ],
   "id": "e641c2ceb8e37ab8",
   "outputs": [
    {
     "name": "stdout",
     "output_type": "stream",
     "text": [
      "tensor([[-0.3475,  0.6816, -0.9945,  1.2280],\n",
      "        [ 0.2656,  0.9277,  0.3166, -0.5748],\n",
      "        [-1.3255,  0.2509, -0.0172, -0.7320]])\n"
     ]
    }
   ],
   "execution_count": 169
  },
  {
   "metadata": {
    "ExecuteTime": {
     "end_time": "2024-12-25T19:39:26.609250Z",
     "start_time": "2024-12-25T19:39:26.606525Z"
    }
   },
   "cell_type": "code",
   "source": [
    "# Find out details about some tensor\n",
    "print(some_tensor)\n",
    "print(f\"Datatype: {some_tensor.dtype}\")\n",
    "print(f\"Shape: {some_tensor.shape}\")\n",
    "print(f\"Device: {some_tensor.device}\")\n"
   ],
   "id": "8646fea3d8b5d497",
   "outputs": [
    {
     "name": "stdout",
     "output_type": "stream",
     "text": [
      "tensor([[-0.3475,  0.6816, -0.9945,  1.2280],\n",
      "        [ 0.2656,  0.9277,  0.3166, -0.5748],\n",
      "        [-1.3255,  0.2509, -0.0172, -0.7320]])\n",
      "Datatype: torch.float32\n",
      "Shape: torch.Size([3, 4])\n",
      "Device: cpu\n"
     ]
    }
   ],
   "execution_count": 170
  },
  {
   "metadata": {},
   "cell_type": "markdown",
   "source": [
    "### Manipulating Tensors (tensor operations)\n",
    "\n",
    "Tensor operations include:\n",
    "* Addition\n",
    "* Substraction\n",
    "* Multiplication (element-wise)\n",
    "* Division\n",
    "* Matrix multiplication"
   ],
   "id": "551e1d796d9f870b"
  },
  {
   "metadata": {
    "ExecuteTime": {
     "end_time": "2024-12-25T19:39:26.613063Z",
     "start_time": "2024-12-25T19:39:26.610258Z"
    }
   },
   "cell_type": "code",
   "source": [
    "# Create a tensor\n",
    "tensor = torch.tensor([1, 2, 3])\n",
    "tensor + 10"
   ],
   "id": "ecf48931b55eab42",
   "outputs": [
    {
     "data": {
      "text/plain": [
       "tensor([11, 12, 13])"
      ]
     },
     "execution_count": 171,
     "metadata": {},
     "output_type": "execute_result"
    }
   ],
   "execution_count": 171
  },
  {
   "metadata": {
    "ExecuteTime": {
     "end_time": "2024-12-25T19:39:26.617058Z",
     "start_time": "2024-12-25T19:39:26.614068Z"
    }
   },
   "cell_type": "code",
   "source": [
    "# Multiply tensor\n",
    "tensor * 10"
   ],
   "id": "deb8731fccf792d2",
   "outputs": [
    {
     "data": {
      "text/plain": [
       "tensor([10, 20, 30])"
      ]
     },
     "execution_count": 172,
     "metadata": {},
     "output_type": "execute_result"
    }
   ],
   "execution_count": 172
  },
  {
   "metadata": {
    "ExecuteTime": {
     "end_time": "2024-12-25T19:39:26.620757Z",
     "start_time": "2024-12-25T19:39:26.618062Z"
    }
   },
   "cell_type": "code",
   "source": [
    "# Substract 10\n",
    "tensor - 10"
   ],
   "id": "c38753319b2aeab6",
   "outputs": [
    {
     "data": {
      "text/plain": [
       "tensor([-9, -8, -7])"
      ]
     },
     "execution_count": 173,
     "metadata": {},
     "output_type": "execute_result"
    }
   ],
   "execution_count": 173
  },
  {
   "metadata": {
    "ExecuteTime": {
     "end_time": "2024-12-25T19:39:26.624536Z",
     "start_time": "2024-12-25T19:39:26.621764Z"
    }
   },
   "cell_type": "code",
   "source": [
    "# Try out PyTorch in-built functions\n",
    "torch.mul(tensor, 10)"
   ],
   "id": "1ada1b45b863de0b",
   "outputs": [
    {
     "data": {
      "text/plain": [
       "tensor([10, 20, 30])"
      ]
     },
     "execution_count": 174,
     "metadata": {},
     "output_type": "execute_result"
    }
   ],
   "execution_count": 174
  },
  {
   "metadata": {},
   "cell_type": "markdown",
   "source": [
    "### Matrix multiplication\n",
    "\n",
    "Two main ways of performing multiplication in neural networks and deep learning :\n",
    "\n",
    "1. Element-wise multiplicatioon\n",
    "2. Matrix multiplication (dot product)\n",
    "\n",
    "More information on multiplying matrices - https://www.mathsisfun.com/algebra/matrix-multiplying.html\n",
    "\n",
    "There are two main rules that performing matrix multiplication needs to statisfy:\n",
    "1. The **inner dimension** must match:\n",
    "* `(3, 2) @ (3, 2)` won't work -> inner dimension : (3, **2**) @ (**3**, 2)\n",
    "* `'(2, 3) @ (3, 2)` will work -> inner dimension : (2, **3**) @ (**3**, 2)\n",
    "* `'(3, 2) @ (2, 3)` will work -> inner dimension : (3, **2**) @ (**2**, 3)\n",
    "\n",
    "2. The resulting matrix has the shape of the **outer dimensions**:\n",
    "* `(2, 3) @ (3, 2)` -> `(2, 2)`\n",
    "* `(3, 2) @ (2, 3)` -> `(3, 3)`"
   ],
   "id": "925de57413ecec70"
  },
  {
   "metadata": {
    "ExecuteTime": {
     "end_time": "2024-12-25T19:39:26.628642Z",
     "start_time": "2024-12-25T19:39:26.625545Z"
    }
   },
   "cell_type": "code",
   "source": "torch.matmul(torch.rand(3, 2), torch.rand(2, 3))",
   "id": "119abb1c1d5ab4ce",
   "outputs": [
    {
     "data": {
      "text/plain": [
       "tensor([[1.2954, 0.3227, 0.6196],\n",
       "        [0.7923, 0.1579, 0.3764],\n",
       "        [0.9421, 0.2911, 0.4543]])"
      ]
     },
     "execution_count": 175,
     "metadata": {},
     "output_type": "execute_result"
    }
   ],
   "execution_count": 175
  },
  {
   "metadata": {
    "ExecuteTime": {
     "end_time": "2024-12-25T19:39:26.632422Z",
     "start_time": "2024-12-25T19:39:26.629647Z"
    }
   },
   "cell_type": "code",
   "source": [
    "# Element wise multiplication\n",
    "print(tensor, \"*\", tensor)\n",
    "print(f\"Equals: {tensor * tensor}\")"
   ],
   "id": "8fd6c3dc2f5f2dbc",
   "outputs": [
    {
     "name": "stdout",
     "output_type": "stream",
     "text": [
      "tensor([1, 2, 3]) * tensor([1, 2, 3])\n",
      "Equals: tensor([1, 4, 9])\n"
     ]
    }
   ],
   "execution_count": 176
  },
  {
   "metadata": {
    "ExecuteTime": {
     "end_time": "2024-12-25T19:39:26.636306Z",
     "start_time": "2024-12-25T19:39:26.633426Z"
    }
   },
   "cell_type": "code",
   "source": [
    "# Matrix multiplication\n",
    "torch.matmul(tensor, tensor)"
   ],
   "id": "bca42624b117f6bd",
   "outputs": [
    {
     "data": {
      "text/plain": [
       "tensor(14)"
      ]
     },
     "execution_count": 177,
     "metadata": {},
     "output_type": "execute_result"
    }
   ],
   "execution_count": 177
  },
  {
   "metadata": {
    "ExecuteTime": {
     "end_time": "2024-12-25T19:39:26.640404Z",
     "start_time": "2024-12-25T19:39:26.637313Z"
    }
   },
   "cell_type": "code",
   "source": [
    "# Matrix multiplication by hand\n",
    "print(tensor)\n",
    "1*1 + 2*2 + 3*3\n"
   ],
   "id": "35332ef075674f3",
   "outputs": [
    {
     "name": "stdout",
     "output_type": "stream",
     "text": [
      "tensor([1, 2, 3])\n"
     ]
    },
    {
     "data": {
      "text/plain": [
       "14"
      ]
     },
     "execution_count": 178,
     "metadata": {},
     "output_type": "execute_result"
    }
   ],
   "execution_count": 178
  },
  {
   "metadata": {
    "ExecuteTime": {
     "end_time": "2024-12-25T19:39:26.643907Z",
     "start_time": "2024-12-25T19:39:26.641410Z"
    }
   },
   "cell_type": "code",
   "source": [
    "%%time\n",
    "value = 0\n",
    "for i in range(len(tensor)):\n",
    "    value += tensor[i] * tensor[i]\n",
    "print(value)"
   ],
   "id": "4486815895446f8c",
   "outputs": [
    {
     "name": "stdout",
     "output_type": "stream",
     "text": [
      "tensor(14)\n",
      "CPU times: total: 0 ns\n",
      "Wall time: 0 ns\n"
     ]
    }
   ],
   "execution_count": 179
  },
  {
   "metadata": {
    "ExecuteTime": {
     "end_time": "2024-12-25T19:39:26.648323Z",
     "start_time": "2024-12-25T19:39:26.644916Z"
    }
   },
   "cell_type": "code",
   "source": [
    "%%time\n",
    "torch.matmul(tensor, tensor)"
   ],
   "id": "f5401506f70188b1",
   "outputs": [
    {
     "name": "stdout",
     "output_type": "stream",
     "text": [
      "CPU times: total: 0 ns\n",
      "Wall time: 0 ns\n"
     ]
    },
    {
     "data": {
      "text/plain": [
       "tensor(14)"
      ]
     },
     "execution_count": 180,
     "metadata": {},
     "output_type": "execute_result"
    }
   ],
   "execution_count": 180
  },
  {
   "metadata": {},
   "cell_type": "markdown",
   "source": "### One of the most common errors in deep learning: shape errors",
   "id": "e7a0ca6a8730623a"
  },
  {
   "metadata": {
    "ExecuteTime": {
     "end_time": "2024-12-25T19:39:26.658223Z",
     "start_time": "2024-12-25T19:39:26.649331Z"
    }
   },
   "cell_type": "code",
   "source": [
    "# Shapes for matrix multiplication\n",
    "tensor_A = torch.tensor([[1, 2],\n",
    "                         [3, 4],\n",
    "                         [5, 6]])\n",
    "\n",
    "tensor_B = torch.tensor([[7, 10],\n",
    "                         [8, 11],\n",
    "                         [9, 12]])\n",
    "\n",
    "# torch.mm(tensor_A, tensor_B) # torch.mm is the same as torch.matmul (it's an alias for writing less code)\n",
    "torch.matmul(tensor_A, tensor_B)"
   ],
   "id": "20addb7a1ab1298f",
   "outputs": [
    {
     "ename": "RuntimeError",
     "evalue": "mat1 and mat2 shapes cannot be multiplied (3x2 and 3x2)",
     "output_type": "error",
     "traceback": [
      "\u001B[1;31m---------------------------------------------------------------------------\u001B[0m",
      "\u001B[1;31mRuntimeError\u001B[0m                              Traceback (most recent call last)",
      "Cell \u001B[1;32mIn[181], line 11\u001B[0m\n\u001B[0;32m      6\u001B[0m tensor_B \u001B[38;5;241m=\u001B[39m torch\u001B[38;5;241m.\u001B[39mtensor([[\u001B[38;5;241m7\u001B[39m, \u001B[38;5;241m10\u001B[39m],\n\u001B[0;32m      7\u001B[0m                          [\u001B[38;5;241m8\u001B[39m, \u001B[38;5;241m11\u001B[39m],\n\u001B[0;32m      8\u001B[0m                          [\u001B[38;5;241m9\u001B[39m, \u001B[38;5;241m12\u001B[39m]])\n\u001B[0;32m     10\u001B[0m \u001B[38;5;66;03m# torch.mm(tensor_A, tensor_B) # torch.mm is the same as torch.matmul (it's an alias for writing less code)\u001B[39;00m\n\u001B[1;32m---> 11\u001B[0m \u001B[43mtorch\u001B[49m\u001B[38;5;241;43m.\u001B[39;49m\u001B[43mmatmul\u001B[49m\u001B[43m(\u001B[49m\u001B[43mtensor_A\u001B[49m\u001B[43m,\u001B[49m\u001B[43m \u001B[49m\u001B[43mtensor_B\u001B[49m\u001B[43m)\u001B[49m\n",
      "\u001B[1;31mRuntimeError\u001B[0m: mat1 and mat2 shapes cannot be multiplied (3x2 and 3x2)"
     ]
    }
   ],
   "execution_count": 181
  },
  {
   "metadata": {
    "ExecuteTime": {
     "end_time": "2024-12-25T19:39:26.658223Z",
     "start_time": "2024-12-21T20:20:12.001168Z"
    }
   },
   "cell_type": "code",
   "source": "tensor_A.shape, tensor_B.shape",
   "id": "44f7391a69dd7774",
   "outputs": [
    {
     "data": {
      "text/plain": [
       "(torch.Size([3, 2]), torch.Size([3, 2]))"
      ]
     },
     "execution_count": 38,
     "metadata": {},
     "output_type": "execute_result"
    }
   ],
   "execution_count": 38
  },
  {
   "metadata": {},
   "cell_type": "markdown",
   "source": [
    "To fix our tensor shape issues, we can manipulate the shape of one of our tensors using a **transpose**.\n",
    "\n",
    "A **transpose** switches the axes or dimensions of a given tensor."
   ],
   "id": "3cb9e0fbe2a985d9"
  },
  {
   "metadata": {
    "ExecuteTime": {
     "end_time": "2024-12-25T19:39:26.658223Z",
     "start_time": "2024-12-21T20:24:35.828001Z"
    }
   },
   "cell_type": "code",
   "source": "tensor_B.shape",
   "id": "f8d4b68406acf55b",
   "outputs": [
    {
     "data": {
      "text/plain": [
       "torch.Size([3, 2])"
      ]
     },
     "execution_count": 44,
     "metadata": {},
     "output_type": "execute_result"
    }
   ],
   "execution_count": 44
  },
  {
   "metadata": {
    "ExecuteTime": {
     "end_time": "2024-12-25T19:39:26.659232200Z",
     "start_time": "2024-12-21T20:24:42.939658Z"
    }
   },
   "cell_type": "code",
   "source": "tensor_B.T, tensor_B.T.shape",
   "id": "f916a4c37ad8dd1a",
   "outputs": [
    {
     "data": {
      "text/plain": [
       "(tensor([[ 7,  8,  9],\n",
       "         [10, 11, 12]]),\n",
       " torch.Size([2, 3]))"
      ]
     },
     "execution_count": 45,
     "metadata": {},
     "output_type": "execute_result"
    }
   ],
   "execution_count": 45
  },
  {
   "metadata": {
    "ExecuteTime": {
     "end_time": "2024-12-25T19:39:26.659232200Z",
     "start_time": "2024-12-21T20:31:33.744419Z"
    }
   },
   "cell_type": "code",
   "source": [
    "# The matrix multiplication operation works when tensor_B is transposed\n",
    "print(f\"Orginal shapes: tensor_A = {tensor_A.shape}, tensor_B = {tensor_B.shape}\")\n",
    "print(f\"New shapes: tensor_A = {tensor_A.shape} (same shape as above), tensor_B.T = {tensor_B.T.shape}\")\n",
    "print(f\"Multiplying: {tensor_A.shape} @ {tensor_B.T.shape} <- inner dimensions must match\")\n",
    "print(f\"Output:\\n\")\n",
    "output = torch.matmul(tensor_A, tensor_B.T)\n",
    "print(output)\n",
    "print(f\"\\n Output shape: {output.shape}\")"
   ],
   "id": "b72d2ab802b96ae6",
   "outputs": [
    {
     "name": "stdout",
     "output_type": "stream",
     "text": [
      "Orginal shapes: tensor_A = torch.Size([3, 2]), tensor_B = torch.Size([3, 2])\n",
      "New shapes: tensor_A = torch.Size([3, 2]) (same shape as above), tensor_B.T = torch.Size([2, 3])\n",
      "Multiplying: torch.Size([3, 2]) @ torch.Size([2, 3]) <- inner dimensions must match\n",
      "Output:\n",
      "\n",
      "tensor([[ 27,  30,  33],\n",
      "        [ 61,  68,  75],\n",
      "        [ 95, 106, 117]])\n",
      "\n",
      " Output shape: torch.Size([3, 3])\n"
     ]
    }
   ],
   "execution_count": 52
  },
  {
   "metadata": {},
   "cell_type": "markdown",
   "source": "## Finding the min, max, mean, sum, etc (tensor aggregation)",
   "id": "779a4ec5837a89a1"
  },
  {
   "metadata": {
    "ExecuteTime": {
     "end_time": "2024-12-25T19:39:26.659232200Z",
     "start_time": "2024-12-21T20:43:15.884240Z"
    }
   },
   "cell_type": "code",
   "source": [
    "# Create a tensor\n",
    "x = torch.arange(1, 100, 10)\n",
    "x"
   ],
   "id": "6baf534ddbfc91fa",
   "outputs": [
    {
     "data": {
      "text/plain": [
       "tensor([ 1, 11, 21, 31, 41, 51, 61, 71, 81, 91])"
      ]
     },
     "execution_count": 62,
     "metadata": {},
     "output_type": "execute_result"
    }
   ],
   "execution_count": 62
  },
  {
   "metadata": {
    "ExecuteTime": {
     "end_time": "2024-12-25T19:39:26.659232200Z",
     "start_time": "2024-12-21T20:36:19.856627Z"
    }
   },
   "cell_type": "code",
   "source": "torch.min(x), x.min()",
   "id": "9eab54b1f3feffa2",
   "outputs": [
    {
     "data": {
      "text/plain": [
       "(tensor(0), tensor(0))"
      ]
     },
     "execution_count": 56,
     "metadata": {},
     "output_type": "execute_result"
    }
   ],
   "execution_count": 56
  },
  {
   "metadata": {
    "ExecuteTime": {
     "end_time": "2024-12-25T19:39:26.659232200Z",
     "start_time": "2024-12-21T20:36:34.515374Z"
    }
   },
   "cell_type": "code",
   "source": [
    "# Find the max\n",
    "torch.max(x), x.max()"
   ],
   "id": "4638285424ada810",
   "outputs": [
    {
     "data": {
      "text/plain": [
       "(tensor(90), tensor(90))"
      ]
     },
     "execution_count": 57,
     "metadata": {},
     "output_type": "execute_result"
    }
   ],
   "execution_count": 57
  },
  {
   "metadata": {
    "ExecuteTime": {
     "end_time": "2024-12-25T19:39:26.659232200Z",
     "start_time": "2024-12-21T20:39:27.402426Z"
    }
   },
   "cell_type": "code",
   "source": [
    "# Find the mean - note: the torch.mean() function requires a tensor of float32 datatype to work\n",
    "torch.mean(x.type(torch.float32)), x.type(torch.float32).mean()"
   ],
   "id": "83502e6327a04340",
   "outputs": [
    {
     "data": {
      "text/plain": [
       "(tensor(45.), tensor(45.))"
      ]
     },
     "execution_count": 59,
     "metadata": {},
     "output_type": "execute_result"
    }
   ],
   "execution_count": 59
  },
  {
   "metadata": {
    "ExecuteTime": {
     "end_time": "2024-12-25T19:39:26.660231900Z",
     "start_time": "2024-12-21T20:40:16.331425Z"
    }
   },
   "cell_type": "code",
   "source": [
    "# Find the sum\n",
    "torch.sum(x), x.sum()"
   ],
   "id": "69bc0a8b3ff630e7",
   "outputs": [
    {
     "data": {
      "text/plain": [
       "(tensor(450), tensor(450))"
      ]
     },
     "execution_count": 60,
     "metadata": {},
     "output_type": "execute_result"
    }
   ],
   "execution_count": 60
  },
  {
   "metadata": {},
   "cell_type": "markdown",
   "source": "## Finding the positional min and max",
   "id": "e1a9649505ebe51a"
  },
  {
   "metadata": {
    "ExecuteTime": {
     "end_time": "2024-12-25T19:39:26.660231900Z",
     "start_time": "2024-12-21T20:43:30.604177Z"
    }
   },
   "cell_type": "code",
   "source": [
    "# Find the position in tensor that has the minimum value with argmin() -> returns index position of target tensor where the minimum value occurs\n",
    "x.argmin()"
   ],
   "id": "cacce00c0f103d64",
   "outputs": [
    {
     "data": {
      "text/plain": [
       "tensor(0)"
      ]
     },
     "execution_count": 63,
     "metadata": {},
     "output_type": "execute_result"
    }
   ],
   "execution_count": 63
  },
  {
   "metadata": {
    "ExecuteTime": {
     "end_time": "2024-12-25T19:39:26.660231900Z",
     "start_time": "2024-12-21T20:43:55.908301Z"
    }
   },
   "cell_type": "code",
   "source": [
    "# Find the position in tensor that has the maximum value with argmax()\n",
    "x.argmax()"
   ],
   "id": "63ae22b9504e1ff2",
   "outputs": [
    {
     "data": {
      "text/plain": [
       "tensor(9)"
      ]
     },
     "execution_count": 64,
     "metadata": {},
     "output_type": "execute_result"
    }
   ],
   "execution_count": 64
  },
  {
   "metadata": {},
   "cell_type": "markdown",
   "source": [
    "## Reshaping, stacking, squeezing and unsqueezing tensors\n",
    "\n",
    "* Reshaping - reshapes an input tensor to a defined shape\n",
    "* View - return a view of an input tensor of certain shape but keep the same memory as the origingal tensor\n",
    "* Stacking - combine multiple tensors on top of each other (vstack) or side by side (hstack)\n",
    "* Squeeze  - remove alls '1' dimensions from a tensor\n",
    "* Unsqueeze - add a '1' dimension to a target tensor\n",
    "* Permute - return a view of the input with dimensions permuted (swaped) in a certain way"
   ],
   "id": "2dae41b80209ff0a"
  },
  {
   "metadata": {
    "ExecuteTime": {
     "end_time": "2024-12-25T19:39:26.660231900Z",
     "start_time": "2024-12-25T14:14:35.504573Z"
    }
   },
   "cell_type": "code",
   "source": [
    "# Creating a tensor\n",
    "import torch\n",
    "x = torch.arange(1., 10.)\n",
    "x, x.shape"
   ],
   "id": "b1c08da27e2b0188",
   "outputs": [
    {
     "data": {
      "text/plain": [
       "(tensor([1., 2., 3., 4., 5., 6., 7., 8., 9.]), torch.Size([9]))"
      ]
     },
     "execution_count": 144,
     "metadata": {},
     "output_type": "execute_result"
    }
   ],
   "execution_count": 144
  },
  {
   "metadata": {
    "ExecuteTime": {
     "end_time": "2024-12-25T19:39:26.660231900Z",
     "start_time": "2024-12-25T14:14:37.873576Z"
    }
   },
   "cell_type": "code",
   "source": [
    "# Add an extra dimension\n",
    "x_reshaped = x.reshape(1, 9) # Multiplication must be equal to size (1 * 9 = 9)\n",
    "x_reshaped, x_reshaped.shape"
   ],
   "id": "d2ad98473af38d43",
   "outputs": [
    {
     "data": {
      "text/plain": [
       "(tensor([[1., 2., 3., 4., 5., 6., 7., 8., 9.]]), torch.Size([1, 9]))"
      ]
     },
     "execution_count": 145,
     "metadata": {},
     "output_type": "execute_result"
    }
   ],
   "execution_count": 145
  },
  {
   "metadata": {
    "ExecuteTime": {
     "end_time": "2024-12-25T19:39:26.660231900Z",
     "start_time": "2024-12-25T14:14:39.638579Z"
    }
   },
   "cell_type": "code",
   "source": [
    "# Change the view\n",
    "z = x.view(1, 9)\n",
    "z, z.shape"
   ],
   "id": "e889999a0ceaa878",
   "outputs": [
    {
     "data": {
      "text/plain": [
       "(tensor([[1., 2., 3., 4., 5., 6., 7., 8., 9.]]), torch.Size([1, 9]))"
      ]
     },
     "execution_count": 146,
     "metadata": {},
     "output_type": "execute_result"
    }
   ],
   "execution_count": 146
  },
  {
   "metadata": {
    "ExecuteTime": {
     "end_time": "2024-12-25T19:39:26.661235300Z",
     "start_time": "2024-12-25T14:14:41.327105Z"
    }
   },
   "cell_type": "code",
   "source": [
    "# Changing z changes x (because a view of a tensor shares the same memory as the original input)\n",
    "z[:, 0] = 5\n",
    "z, x"
   ],
   "id": "9a782e9bdc7ce6db",
   "outputs": [
    {
     "data": {
      "text/plain": [
       "(tensor([[5., 2., 3., 4., 5., 6., 7., 8., 9.]]),\n",
       " tensor([5., 2., 3., 4., 5., 6., 7., 8., 9.]))"
      ]
     },
     "execution_count": 147,
     "metadata": {},
     "output_type": "execute_result"
    }
   ],
   "execution_count": 147
  },
  {
   "metadata": {
    "ExecuteTime": {
     "end_time": "2024-12-25T19:39:26.661235300Z",
     "start_time": "2024-12-25T14:14:51.619587Z"
    }
   },
   "cell_type": "code",
   "source": [
    "# Stack tensors on top of each other\n",
    "x_stacked = torch.stack([x, x, x, x], dim=1)\n",
    "x_stacked, x_stacked.shape"
   ],
   "id": "4dea793acc131ddc",
   "outputs": [
    {
     "data": {
      "text/plain": [
       "(tensor([[5., 5., 5., 5.],\n",
       "         [2., 2., 2., 2.],\n",
       "         [3., 3., 3., 3.],\n",
       "         [4., 4., 4., 4.],\n",
       "         [5., 5., 5., 5.],\n",
       "         [6., 6., 6., 6.],\n",
       "         [7., 7., 7., 7.],\n",
       "         [8., 8., 8., 8.],\n",
       "         [9., 9., 9., 9.]]),\n",
       " torch.Size([9, 4]))"
      ]
     },
     "execution_count": 149,
     "metadata": {},
     "output_type": "execute_result"
    }
   ],
   "execution_count": 149
  },
  {
   "metadata": {
    "ExecuteTime": {
     "end_time": "2024-12-25T19:39:26.661235300Z",
     "start_time": "2024-12-25T14:19:53.190585Z"
    }
   },
   "cell_type": "code",
   "source": [
    "# torch.squeeze() - removes all single dimensions from a target tensor\n",
    "print(f\"Previous tensor: {x_reshaped}\")\n",
    "print(f\"Previous shape: {x_reshaped.shape}\")\n",
    "\n",
    "# Remove extra dimensions from x_reshaped\n",
    "x_squeezed = x_reshaped.squeeze()\n",
    "print(f\"\\nNew tensor: {x_squeezed}\")\n",
    "print(f\"New shape: {x_squeezed.shape}\")"
   ],
   "id": "995f2a607075310a",
   "outputs": [
    {
     "name": "stdout",
     "output_type": "stream",
     "text": [
      "Previous tensor: tensor([[5., 2., 3., 4., 5., 6., 7., 8., 9.]])\n",
      "Previous shape: torch.Size([1, 9])\n",
      "\n",
      "New tensor: tensor([5., 2., 3., 4., 5., 6., 7., 8., 9.])\n",
      "New shape: torch.Size([9])\n"
     ]
    }
   ],
   "execution_count": 151
  },
  {
   "metadata": {
    "ExecuteTime": {
     "end_time": "2024-12-25T19:39:26.661235300Z",
     "start_time": "2024-12-25T14:22:10.767623Z"
    }
   },
   "cell_type": "code",
   "source": [
    "# torch.unsqueeze() - adds a single dimension to a target tensor at a specific dim (dimension)\n",
    "print(f\"Previous target: {x_squeezed}\")\n",
    "print(f\"Previous shape: {x_squeezed.shape}\")\n",
    "\n",
    "# Add an extra dimension with unsqueeze\n",
    "x_unsqueezed = x_squeezed.unsqueeze(dim=0)\n",
    "print(f\"\\nNew tensor: {x_unsqueezed}\")\n",
    "print(f\"New shape: {x_unsqueezed.shape}\")"
   ],
   "id": "52abb1ec589c2a31",
   "outputs": [
    {
     "name": "stdout",
     "output_type": "stream",
     "text": [
      "Previous target: tensor([5., 2., 3., 4., 5., 6., 7., 8., 9.])\n",
      "Previous shape: torch.Size([9])\n",
      "\n",
      "New tensor: tensor([[5., 2., 3., 4., 5., 6., 7., 8., 9.]])\n",
      "New shape: torch.Size([1, 9])\n"
     ]
    }
   ],
   "execution_count": 157
  },
  {
   "metadata": {
    "ExecuteTime": {
     "end_time": "2024-12-25T19:39:26.661235300Z",
     "start_time": "2024-12-25T14:27:12.438461Z"
    }
   },
   "cell_type": "code",
   "source": [
    "# torch.permute - rearranges the dimensions of a target tensor in a specified order\n",
    "x_original = torch.randn(size=(224, 224, 3)) # [height, width, color_channels]\n",
    "\n",
    "# Permute the original tensor to rearrange the axis (or dim) order\n",
    "x_permuted = x_original.permute(2, 0, 1) # shifts axis 0->1, 1->2, 2->0\n",
    "\n",
    "print(f\"Previous shape: {x_original.shape}\")\n",
    "print(f\"New shape: {x_permuted.shape}\") # [color_channels, height, width]"
   ],
   "id": "839780c6096d792d",
   "outputs": [
    {
     "name": "stdout",
     "output_type": "stream",
     "text": [
      "Previous shape: torch.Size([224, 224, 3])\n",
      "New shape: torch.Size([3, 224, 224])\n"
     ]
    }
   ],
   "execution_count": 160
  },
  {
   "metadata": {},
   "cell_type": "markdown",
   "source": [
    "## Indexing (selecting data from tensors)\n",
    "\n",
    "Indexing with PyTorch is similar to indexing with NumPy"
   ],
   "id": "41e2eaeba58299de"
  },
  {
   "metadata": {
    "ExecuteTime": {
     "end_time": "2024-12-25T19:39:41.838062Z",
     "start_time": "2024-12-25T19:39:41.834304Z"
    }
   },
   "cell_type": "code",
   "source": [
    "# Create a tensor\n",
    "import torch\n",
    "x = torch.arange(1, 10).reshape(1, 3, 3)\n",
    "x, x.shape"
   ],
   "id": "9cab78117ad8e1e0",
   "outputs": [
    {
     "data": {
      "text/plain": [
       "(tensor([[[1, 2, 3],\n",
       "          [4, 5, 6],\n",
       "          [7, 8, 9]]]),\n",
       " torch.Size([1, 3, 3]))"
      ]
     },
     "execution_count": 182,
     "metadata": {},
     "output_type": "execute_result"
    }
   ],
   "execution_count": 182
  },
  {
   "metadata": {
    "ExecuteTime": {
     "end_time": "2024-12-25T19:39:43.023861Z",
     "start_time": "2024-12-25T19:39:43.020756Z"
    }
   },
   "cell_type": "code",
   "source": [
    "# Let's index on our new tensor\n",
    "print(x[0])"
   ],
   "id": "2bf314f10af65e10",
   "outputs": [
    {
     "name": "stdout",
     "output_type": "stream",
     "text": [
      "tensor([[1, 2, 3],\n",
      "        [4, 5, 6],\n",
      "        [7, 8, 9]])\n"
     ]
    }
   ],
   "execution_count": 183
  },
  {
   "metadata": {
    "ExecuteTime": {
     "end_time": "2024-12-25T19:39:44.456044Z",
     "start_time": "2024-12-25T19:39:44.453190Z"
    }
   },
   "cell_type": "code",
   "source": [
    "# Let's index on the middle bracket (dim=1)\n",
    "print(x[0][0])"
   ],
   "id": "b75ae65b7e193f0d",
   "outputs": [
    {
     "name": "stdout",
     "output_type": "stream",
     "text": [
      "tensor([1, 2, 3])\n"
     ]
    }
   ],
   "execution_count": 184
  },
  {
   "metadata": {
    "ExecuteTime": {
     "end_time": "2024-12-25T19:39:45.449864Z",
     "start_time": "2024-12-25T19:39:45.447271Z"
    }
   },
   "cell_type": "code",
   "source": [
    "# Let's index of the most inner bracket (last dimension)\n",
    "print(x[0][0][0])"
   ],
   "id": "df7b31f2af249906",
   "outputs": [
    {
     "name": "stdout",
     "output_type": "stream",
     "text": [
      "tensor(1)\n"
     ]
    }
   ],
   "execution_count": 185
  },
  {
   "metadata": {
    "ExecuteTime": {
     "end_time": "2024-12-25T19:39:46.475746Z",
     "start_time": "2024-12-25T19:39:46.473002Z"
    }
   },
   "cell_type": "code",
   "source": [
    "# You can also use \":\" to select \"all\" of a target dimension\n",
    "print(x[:, 0])"
   ],
   "id": "260ca33dd3fb915d",
   "outputs": [
    {
     "name": "stdout",
     "output_type": "stream",
     "text": [
      "tensor([[1, 2, 3]])\n"
     ]
    }
   ],
   "execution_count": 186
  },
  {
   "metadata": {
    "ExecuteTime": {
     "end_time": "2024-12-25T19:39:47.402935Z",
     "start_time": "2024-12-25T19:39:47.396717Z"
    }
   },
   "cell_type": "code",
   "source": [
    "# Get all values of 0th and 1st dimensions but only index 1 of 2nd dimension\n",
    "print(x[:, :, 1])"
   ],
   "id": "ebe4647cbf56f3e8",
   "outputs": [
    {
     "name": "stdout",
     "output_type": "stream",
     "text": [
      "tensor([[2, 5, 8]])\n"
     ]
    }
   ],
   "execution_count": 187
  },
  {
   "metadata": {
    "ExecuteTime": {
     "end_time": "2024-12-25T19:39:48.061171Z",
     "start_time": "2024-12-25T19:39:48.058914Z"
    }
   },
   "cell_type": "code",
   "source": [
    "# Get all values of the 0 dimension but only the 1 index value of 1st and 2nd dimension\n",
    "print(x[:, 1,  1])"
   ],
   "id": "5fc4c6ef5806e5ea",
   "outputs": [
    {
     "name": "stdout",
     "output_type": "stream",
     "text": [
      "tensor([5])\n"
     ]
    }
   ],
   "execution_count": 188
  },
  {
   "metadata": {
    "ExecuteTime": {
     "end_time": "2024-12-25T19:39:48.947157Z",
     "start_time": "2024-12-25T19:39:48.944048Z"
    }
   },
   "cell_type": "code",
   "source": [
    "# Get index 0 of 0th and 1st dimension and all values of 2nd dimension\n",
    "print(x[0, 0, :])"
   ],
   "id": "cb8e9c8b6f7b50be",
   "outputs": [
    {
     "name": "stdout",
     "output_type": "stream",
     "text": [
      "tensor([1, 2, 3])\n"
     ]
    }
   ],
   "execution_count": 189
  },
  {
   "metadata": {},
   "cell_type": "markdown",
   "source": [
    "## PyTorch tensors & NumPy\n",
    "\n",
    "NumPy is a popular scientific Python numerical computing library.\n",
    "\n",
    "And because of this, PyTorch has functionality to interact with it.\n",
    "\n",
    "* Data in NumPy, want in PyTorch tensor -> `torch.from_numpy(ndarray)`\n",
    "* PyTorch tensor -> NumPy -> `torch.Tensor.numpy()`"
   ],
   "id": "fddb8fd4b739961b"
  },
  {
   "metadata": {
    "ExecuteTime": {
     "end_time": "2024-12-26T09:49:15.494926Z",
     "start_time": "2024-12-26T09:49:11.498845Z"
    }
   },
   "cell_type": "code",
   "source": [
    "# Numpy array to tensor\n",
    "import torch\n",
    "import numpy as np\n",
    "\n",
    "array = np.arange(1.0, 8.0)\n",
    "tensor = torch.from_numpy(array) # warning: when converting from numpy -> pytorch, pytorch reflects numpy's default datatype of float64 unless specified otherwise\n",
    "array, tensor"
   ],
   "id": "103c04c003d8c3ec",
   "outputs": [
    {
     "data": {
      "text/plain": [
       "(array([1., 2., 3., 4., 5., 6., 7.]),\n",
       " tensor([1., 2., 3., 4., 5., 6., 7.], dtype=torch.float64))"
      ]
     },
     "execution_count": 1,
     "metadata": {},
     "output_type": "execute_result"
    }
   ],
   "execution_count": 1
  },
  {
   "metadata": {
    "ExecuteTime": {
     "end_time": "2024-12-26T09:50:11.786650Z",
     "start_time": "2024-12-26T09:50:11.782226Z"
    }
   },
   "cell_type": "code",
   "source": [
    "# Change the value of array, what will do to `tensor`\n",
    "array = array + 1\n",
    "array, tensor"
   ],
   "id": "5a891a7c2677cf87",
   "outputs": [
    {
     "data": {
      "text/plain": [
       "(array([2., 3., 4., 5., 6., 7., 8.]),\n",
       " tensor([1., 2., 3., 4., 5., 6., 7.], dtype=torch.float64))"
      ]
     },
     "execution_count": 2,
     "metadata": {},
     "output_type": "execute_result"
    }
   ],
   "execution_count": 2
  },
  {
   "metadata": {
    "ExecuteTime": {
     "end_time": "2024-12-26T09:51:54.101772Z",
     "start_time": "2024-12-26T09:51:54.097404Z"
    }
   },
   "cell_type": "code",
   "source": [
    "# Tensor to NumPy array\n",
    "tensor = torch.ones(7)\n",
    "numpy_tensor = tensor.numpy()\n",
    "tensor, numpy_tensor"
   ],
   "id": "fe47fa1fd9ce4156",
   "outputs": [
    {
     "data": {
      "text/plain": [
       "(tensor([1., 1., 1., 1., 1., 1., 1.]),\n",
       " array([1., 1., 1., 1., 1., 1., 1.], dtype=float32))"
      ]
     },
     "execution_count": 4,
     "metadata": {},
     "output_type": "execute_result"
    }
   ],
   "execution_count": 4
  },
  {
   "metadata": {
    "ExecuteTime": {
     "end_time": "2024-12-26T09:52:10.492718Z",
     "start_time": "2024-12-26T09:52:10.489306Z"
    }
   },
   "cell_type": "code",
   "source": "numpy_tensor.dtype",
   "id": "e7a84d42fe88f40",
   "outputs": [
    {
     "data": {
      "text/plain": [
       "dtype('float32')"
      ]
     },
     "execution_count": 5,
     "metadata": {},
     "output_type": "execute_result"
    }
   ],
   "execution_count": 5
  },
  {
   "metadata": {
    "ExecuteTime": {
     "end_time": "2024-12-26T09:52:57.313329Z",
     "start_time": "2024-12-26T09:52:57.306331Z"
    }
   },
   "cell_type": "code",
   "source": [
    "# Change the tensor, what happens to `numpy_tensor`?\n",
    "tensor = tensor + 1\n",
    "tensor, numpy_tensor"
   ],
   "id": "feead8a74f3ec821",
   "outputs": [
    {
     "data": {
      "text/plain": [
       "(tensor([2., 2., 2., 2., 2., 2., 2.]),\n",
       " array([1., 1., 1., 1., 1., 1., 1.], dtype=float32))"
      ]
     },
     "execution_count": 6,
     "metadata": {},
     "output_type": "execute_result"
    }
   ],
   "execution_count": 6
  },
  {
   "metadata": {},
   "cell_type": "markdown",
   "source": [
    "## Reprodicibility (trying to take random out of random) / Pseudo aléatoire\n",
    "\n",
    "In short how a neural network learns:\n",
    "\n",
    "`start with random numbers -> tensor operations -> update random numbers to try and make them better representations of the data -> again -> again -> again...`\n",
    "\n",
    "To reduce the randomness in neural networks and PyTorch comes the concept of a **random seed**.\n",
    "\n",
    "Essentially what the random seed does is \"flavour\" the randomness."
   ],
   "id": "792bd2bfde66a590"
  },
  {
   "metadata": {
    "ExecuteTime": {
     "end_time": "2024-12-26T10:13:10.070543Z",
     "start_time": "2024-12-26T10:13:10.066217Z"
    }
   },
   "cell_type": "code",
   "source": [
    "import torch\n",
    "\n",
    "# Create two random tensors\n",
    "random_tensor_A = torch.randn(3, 4)\n",
    "random_tensor_B = torch.randn(3, 4)\n",
    "\n",
    "print(random_tensor_A)\n",
    "print(random_tensor_B)\n",
    "print(random_tensor_A == random_tensor_B)"
   ],
   "id": "4a5b7954e90cb4b7",
   "outputs": [
    {
     "name": "stdout",
     "output_type": "stream",
     "text": [
      "tensor([[-1.0002, -0.0244,  0.2497, -1.7517],\n",
      "        [-0.1309,  1.4378, -0.1544, -0.2853],\n",
      "        [-0.1389, -0.8561, -0.5364, -1.0440]])\n",
      "tensor([[ 1.2561,  0.4627, -0.3151,  0.5482],\n",
      "        [ 0.0369, -0.8128,  0.0121, -0.6397],\n",
      "        [ 0.6416, -0.5964,  0.7355,  0.0723]])\n",
      "tensor([[False, False, False, False],\n",
      "        [False, False, False, False],\n",
      "        [False, False, False, False]])\n"
     ]
    }
   ],
   "execution_count": 24
  },
  {
   "metadata": {
    "ExecuteTime": {
     "end_time": "2024-12-26T10:03:06.695637Z",
     "start_time": "2024-12-26T10:03:06.689163Z"
    }
   },
   "cell_type": "code",
   "outputs": [
    {
     "name": "stdout",
     "output_type": "stream",
     "text": [
      "tensor([[ 0.3367,  0.1288,  0.2345,  0.2303],\n",
      "        [-1.1229, -0.1863,  2.2082, -0.6380],\n",
      "        [ 0.4617,  0.2674,  0.5349,  0.8094]])\n",
      "tensor([[ 0.3367,  0.1288,  0.2345,  0.2303],\n",
      "        [-1.1229, -0.1863,  2.2082, -0.6380],\n",
      "        [ 0.4617,  0.2674,  0.5349,  0.8094]])\n",
      "tensor([[True, True, True, True],\n",
      "        [True, True, True, True],\n",
      "        [True, True, True, True]])\n"
     ]
    }
   ],
   "execution_count": 16,
   "source": [
    "# Let's make some random but reproducible tensors / Pseudo aléatoire\n",
    "import torch\n",
    "\n",
    "# Set the random seed\n",
    "RANDOM_SEED = 42\n",
    "torch.manual_seed(RANDOM_SEED) # Work for one tensor\n",
    "random_tensor_C = torch.randn(3, 4)\n",
    "torch.manual_seed(RANDOM_SEED)\n",
    "random_tensor_D = torch.randn(3, 4)\n",
    "\n",
    "print(random_tensor_C)\n",
    "print(random_tensor_D)\n",
    "print(random_tensor_D == random_tensor_C)"
   ],
   "id": "24ef2009bd58bca7"
  },
  {
   "metadata": {},
   "cell_type": "markdown",
   "source": [
    "## Running tensors and PyTorch objects on the GPUs (and making faster computations)\n",
    "\n",
    "GPU = faster computation on numbers, thanks to CUDA + NVIDIA hardware + PyTorch working behind the scenes to make everything good.\n"
   ],
   "id": "89711f1a47d8a5f0"
  },
  {
   "metadata": {
    "ExecuteTime": {
     "end_time": "2024-12-26T10:28:05.426328Z",
     "start_time": "2024-12-26T10:28:05.422588Z"
    }
   },
   "cell_type": "code",
   "source": [
    "# Check for GPU access with PyTorch\n",
    "import torch\n",
    "torch.cuda.is_available()"
   ],
   "id": "6d5666c06e09f960",
   "outputs": [
    {
     "data": {
      "text/plain": [
       "True"
      ]
     },
     "execution_count": 3,
     "metadata": {},
     "output_type": "execute_result"
    }
   ],
   "execution_count": 3
  },
  {
   "metadata": {},
   "cell_type": "markdown",
   "source": [
    "For PyTorch since it's capable of running compute on the GPU or CPU, it's best practice to setup device agnostic code:\n",
    "https://pytorch.org/docs/stable/notes/cuda.html#device-agnostic-code\n",
    "\n",
    "-> Run on GPU if available, else default to CPU"
   ],
   "id": "251f83a76be6962f"
  },
  {
   "metadata": {
    "ExecuteTime": {
     "end_time": "2024-12-26T10:28:47.460503Z",
     "start_time": "2024-12-26T10:28:47.457660Z"
    }
   },
   "cell_type": "code",
   "source": [
    "# Setup device agnostic code\n",
    "device = \"cuda\" if torch.cuda.is_available() else \"cpu\"\n",
    "print(device)"
   ],
   "id": "3c903d9adc4fee01",
   "outputs": [
    {
     "name": "stdout",
     "output_type": "stream",
     "text": [
      "cuda\n"
     ]
    }
   ],
   "execution_count": 4
  },
  {
   "metadata": {
    "ExecuteTime": {
     "end_time": "2024-12-26T10:29:23.939644Z",
     "start_time": "2024-12-26T10:29:23.936785Z"
    }
   },
   "cell_type": "code",
   "source": [
    "# Count numbers of devices\n",
    "torch.cuda.device_count()"
   ],
   "id": "913c4b372012cbfb",
   "outputs": [
    {
     "data": {
      "text/plain": [
       "1"
      ]
     },
     "execution_count": 5,
     "metadata": {},
     "output_type": "execute_result"
    }
   ],
   "execution_count": 5
  },
  {
   "metadata": {},
   "cell_type": "markdown",
   "source": [
    "## Puting tensors (and models) on the GPU\n",
    "\n",
    "The reason we want our tensors/mmodels on the GPU is because using a GPU results in faster computations."
   ],
   "id": "8198add8651d9482"
  },
  {
   "metadata": {
    "ExecuteTime": {
     "end_time": "2024-12-26T10:38:05.492465Z",
     "start_time": "2024-12-26T10:38:05.483989Z"
    }
   },
   "cell_type": "code",
   "source": [
    "# Create a tensor (default on the CPU)\n",
    "tensor = torch.tensor([1, 2, 3])\n",
    "\n",
    "# Tensor not on GPU\n",
    "print(tensor, tensor.device)"
   ],
   "id": "18bfc95fe679d49f",
   "outputs": [
    {
     "name": "stdout",
     "output_type": "stream",
     "text": [
      "tensor([1, 2, 3]) cpu\n"
     ]
    }
   ],
   "execution_count": 7
  },
  {
   "metadata": {
    "ExecuteTime": {
     "end_time": "2024-12-26T10:38:54.215132Z",
     "start_time": "2024-12-26T10:38:54.016629Z"
    }
   },
   "cell_type": "code",
   "source": [
    "# Move tensor to GPU (if available)\n",
    "tensor_on_gpu = tensor.to(device)\n",
    "tensor_on_gpu"
   ],
   "id": "38f3aec463e0b070",
   "outputs": [
    {
     "data": {
      "text/plain": [
       "tensor([1, 2, 3], device='cuda:0')"
      ]
     },
     "execution_count": 8,
     "metadata": {},
     "output_type": "execute_result"
    }
   ],
   "execution_count": 8
  },
  {
   "metadata": {},
   "cell_type": "markdown",
   "source": "### Moving tensors back to the CPU",
   "id": "2c3a93cd9a275be4"
  },
  {
   "metadata": {
    "ExecuteTime": {
     "end_time": "2024-12-26T10:40:42.684540Z",
     "start_time": "2024-12-26T10:40:42.606992Z"
    }
   },
   "cell_type": "code",
   "source": [
    "# If tensor is on GPU, can't transform it to NumPy\n",
    "tensor_on_gpu.numpy()"
   ],
   "id": "bfb78df867e567eb",
   "outputs": [
    {
     "ename": "TypeError",
     "evalue": "can't convert cuda:0 device type tensor to numpy. Use Tensor.cpu() to copy the tensor to host memory first.",
     "output_type": "error",
     "traceback": [
      "\u001B[1;31m---------------------------------------------------------------------------\u001B[0m",
      "\u001B[1;31mTypeError\u001B[0m                                 Traceback (most recent call last)",
      "Cell \u001B[1;32mIn[9], line 2\u001B[0m\n\u001B[0;32m      1\u001B[0m \u001B[38;5;66;03m# If tensor is on GPU, can't transform it to NumPy\u001B[39;00m\n\u001B[1;32m----> 2\u001B[0m \u001B[43mtensor_on_gpu\u001B[49m\u001B[38;5;241;43m.\u001B[39;49m\u001B[43mnumpy\u001B[49m\u001B[43m(\u001B[49m\u001B[43m)\u001B[49m\n",
      "\u001B[1;31mTypeError\u001B[0m: can't convert cuda:0 device type tensor to numpy. Use Tensor.cpu() to copy the tensor to host memory first."
     ]
    }
   ],
   "execution_count": 9
  },
  {
   "metadata": {
    "ExecuteTime": {
     "end_time": "2024-12-26T10:41:59.273747Z",
     "start_time": "2024-12-26T10:41:59.268667Z"
    }
   },
   "cell_type": "code",
   "source": [
    "# To fix the GPU tensor with NumPy issue, we can first set it to the CPU\n",
    "tensor_back_on_cpu = tensor_on_gpu.cpu().numpy()\n",
    "print(tensor_back_on_cpu)"
   ],
   "id": "8f7069e80f50745b",
   "outputs": [
    {
     "name": "stdout",
     "output_type": "stream",
     "text": [
      "[1 2 3]\n"
     ]
    }
   ],
   "execution_count": 10
  }
 ],
 "metadata": {
  "kernelspec": {
   "display_name": "Python 3 (ipykernel)",
   "language": "python",
   "name": "python3"
  },
  "language_info": {
   "codemirror_mode": {
    "name": "ipython",
    "version": 3
   },
   "file_extension": ".py",
   "mimetype": "text/x-python",
   "name": "python",
   "nbconvert_exporter": "python",
   "pygments_lexer": "ipython3",
   "version": "3.12.1"
  }
 },
 "nbformat": 4,
 "nbformat_minor": 5
}
